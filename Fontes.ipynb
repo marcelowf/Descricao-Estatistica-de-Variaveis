{
  "nbformat": 4,
  "nbformat_minor": 0,
  "metadata": {
    "colab": {
      "provenance": []
    },
    "kernelspec": {
      "name": "python3",
      "display_name": "Python 3"
    },
    "language_info": {
      "name": "python"
    }
  },
  "cells": [
    {
      "cell_type": "code",
      "source": [
        "import matplotlib.pyplot as plt\n",
        "import pandas as pd\n",
        "import numpy as np\n",
        "\n",
        "from google.colab import files\n",
        "\n",
        "uploaded = files.upload()\n",
        "\n",
        "for fn in uploaded.keys():\n",
        "  print('User uploaded file \"{name}\" with length {length} bytes'.format(\n",
        "      name=fn, length=len(uploaded[fn])))"
      ],
      "metadata": {
        "id": "AmI5qzDvW9_B"
      },
      "execution_count": null,
      "outputs": []
    },
    {
      "cell_type": "code",
      "execution_count": null,
      "metadata": {
        "id": "03b-0z7FcR9j"
      },
      "outputs": [],
      "source": [
        "df = pd.read_csv(\"Dados.csv\")\n",
        "normalized_losses = df['normalized-losses']\n",
        "wheel_base = df['wheel-base']\n",
        "\n",
        "def create_boxplot(data, filename):\n",
        "    plt.figure()\n",
        "    plt.boxplot(data)\n",
        "    plt.savefig(filename)\n",
        "    plt.show()\n",
        "    plt.close()\n",
        "\n",
        "def remove_outliers_iqr(data):\n",
        "    Q1 = np.percentile(data, 25)\n",
        "    Q3 = np.percentile(data, 75)\n",
        "    IQR = Q3 - Q1\n",
        "    lower_bound = Q1 - 1.5 * IQR\n",
        "    upper_bound = Q3 + 1.5 * IQR\n",
        "    return [x for x in data if x >= lower_bound and x <= upper_bound]\n",
        "\n",
        "def remove_outliers_mean_std(data):\n",
        "    mean = np.mean(data)\n",
        "    std_dev = np.std(data)\n",
        "    lower_bound = mean - 2 * std_dev\n",
        "    upper_bound = mean + 2 * std_dev\n",
        "    return [x for x in data if x >= lower_bound and x <= upper_bound]\n",
        "\n",
        "def generate_plots_and_outliers(column_data, column_name, plot_filename_prefix):\n",
        "    if column_data is not None:\n",
        "        create_boxplot(column_data, f'{plot_filename_prefix}_initial.png')\n",
        "        # Remove outliers usando o método IQR\n",
        "        column_no_outliers_iqr = remove_outliers_iqr(column_data)\n",
        "        create_boxplot(column_no_outliers_iqr, f'{plot_filename_prefix}_no_outliers_iqr.png')\n",
        "        # Remove outliers usando média e desvio padrão\n",
        "        column_no_outliers_mean_std = remove_outliers_mean_std(column_data)\n",
        "        create_boxplot(column_no_outliers_mean_std, f'{plot_filename_prefix}_no_outliers_mean_std.png')\n",
        "\n",
        "generate_plots_and_outliers(normalized_losses, 'normalized_losses', 'boxplot_normalized_losses')\n",
        "generate_plots_and_outliers(wheel_base, 'wheel_base', 'boxplot_wheel_base')"
      ]
    }
  ]
}